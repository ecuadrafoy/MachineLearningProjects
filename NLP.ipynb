{
  "nbformat": 4,
  "nbformat_minor": 0,
  "metadata": {
    "colab": {
      "name": "Homework M6.ipynb",
      "provenance": [],
      "collapsed_sections": [],
      "include_colab_link": true
    },
    "kernelspec": {
      "name": "python3",
      "display_name": "Python 3"
    },
    "accelerator": "GPU"
  },
  "cells": [
    {
      "cell_type": "markdown",
      "metadata": {
        "id": "view-in-github",
        "colab_type": "text"
      },
      "source": [
        "<a href=\"https://colab.research.google.com/github/ecuadrafoy/PracticalMachineLearning/blob/master/NLP.ipynb\" target=\"_parent\"><img src=\"https://colab.research.google.com/assets/colab-badge.svg\" alt=\"Open In Colab\"/></a>"
      ]
    },
    {
      "cell_type": "markdown",
      "metadata": {
        "id": "IeERWemNFXXt",
        "colab_type": "text"
      },
      "source": [
        "# Homework: classify the origin of names using a character-level RNN\n",
        "\n",
        "In this homework we will use an rnn-based model to perform classification. The goal is threefold:\n",
        "\n",
        "1. Get more hands on with the preprocessing needed to perform text classification from A to Z. No preprocessing is done for you!\n",
        "2. Use embeddings and RNNs in conjunction at the character level to perform classification.\n",
        "3. Write a function that takes as input a string, and outputs the name of the predicted class.\n",
        "\n",
        "However, here are guidelines to help you through all the steps:\n",
        "\n",
        "1. Figure out the number of classes, and map the classes to integers (or one-hot vectors). This is needed for fitting the model and training it to do classification.\n",
        "2. Use the keras tokenizer at the character level to tokenize your input into integer sequences.\n",
        "3. Pad your sequences using the keras preprocessing tools.\n",
        "4. Build a model that uses, minimally, an embedding layer, an RNN (of your choice) and a dense layer to output the logits or probabilities for the target classes (name origins).\n",
        "5. Fit the model and evaluate on the test set.\n",
        "6. Write a function that takes a string as input and predicts the origin (as its original string value)"
      ]
    },
    {
      "cell_type": "code",
      "metadata": {
        "id": "kS9ty_yBFJSg",
        "colab_type": "code",
        "colab": {}
      },
      "source": [
        "%tensorflow_version 2.x\n",
        "import numpy as np\n",
        "from glob import glob\n",
        "from sklearn.model_selection import train_test_split\n",
        "import tensorflow as tf\n",
        "from tensorflow.keras.preprocessing.text import Tokenizer\n",
        "from tensorflow.keras.layers.experimental.preprocessing import TextVectorization\n",
        "from tensorflow.keras.preprocessing.sequence import pad_sequences\n",
        "from tensorflow.keras.layers import GRU, Input, Dense, TimeDistributed, LSTM, Activation, Embedding, SpatialDropout1D\n",
        "from tensorflow.keras.models import Model, Sequential\n",
        "from tensorflow.keras.optimizers import Adam\n",
        "from tensorflow.keras.utils import to_categorical\n",
        "import tensorflow.keras.backend as K\n",
        "from tensorflow.keras.losses import sparse_categorical_crossentropy\n",
        "from IPython.core.interactiveshell import InteractiveShell\n",
        "from sklearn.preprocessing import LabelEncoder, OrdinalEncoder\n",
        "import pandas as pd\n",
        "import matplotlib.pyplot as plt\n",
        "\n",
        "InteractiveShell.ast_node_interactivity = \"all\""
      ],
      "execution_count": null,
      "outputs": []
    },
    {
      "cell_type": "code",
      "metadata": {
        "id": "7Xq18_khFcsK",
        "colab_type": "code",
        "colab": {
          "base_uri": "https://localhost:8080/",
          "height": 578
        },
        "outputId": "b60e88b9-2256-4196-810c-b2c2e48bd28d"
      },
      "source": [
        "# Download the data\n",
        "!wget https://download.pytorch.org/tutorial/data.zip\n",
        "!unzip data.zip"
      ],
      "execution_count": null,
      "outputs": [
        {
          "output_type": "stream",
          "text": [
            "--2020-07-22 20:01:37--  https://download.pytorch.org/tutorial/data.zip\n",
            "Resolving download.pytorch.org (download.pytorch.org)... 13.227.223.42, 13.227.223.82, 13.227.223.15, ...\n",
            "Connecting to download.pytorch.org (download.pytorch.org)|13.227.223.42|:443... connected.\n",
            "HTTP request sent, awaiting response... 200 OK\n",
            "Length: 2882130 (2.7M) [application/zip]\n",
            "Saving to: ‘data.zip’\n",
            "\n",
            "\rdata.zip              0%[                    ]       0  --.-KB/s               \rdata.zip            100%[===================>]   2.75M  --.-KB/s    in 0.04s   \n",
            "\n",
            "2020-07-22 20:01:37 (72.7 MB/s) - ‘data.zip’ saved [2882130/2882130]\n",
            "\n",
            "Archive:  data.zip\n",
            "   creating: data/\n",
            "  inflating: data/eng-fra.txt        \n",
            "   creating: data/names/\n",
            "  inflating: data/names/Arabic.txt   \n",
            "  inflating: data/names/Chinese.txt  \n",
            "  inflating: data/names/Czech.txt    \n",
            "  inflating: data/names/Dutch.txt    \n",
            "  inflating: data/names/English.txt  \n",
            "  inflating: data/names/French.txt   \n",
            "  inflating: data/names/German.txt   \n",
            "  inflating: data/names/Greek.txt    \n",
            "  inflating: data/names/Irish.txt    \n",
            "  inflating: data/names/Italian.txt  \n",
            "  inflating: data/names/Japanese.txt  \n",
            "  inflating: data/names/Korean.txt   \n",
            "  inflating: data/names/Polish.txt   \n",
            "  inflating: data/names/Portuguese.txt  \n",
            "  inflating: data/names/Russian.txt  \n",
            "  inflating: data/names/Scottish.txt  \n",
            "  inflating: data/names/Spanish.txt  \n",
            "  inflating: data/names/Vietnamese.txt  \n"
          ],
          "name": "stdout"
        }
      ]
    },
    {
      "cell_type": "code",
      "metadata": {
        "id": "dIWLuUg0FddK",
        "colab_type": "code",
        "colab": {}
      },
      "source": [
        "data = []\n",
        "for filename in glob('data/names/*.txt'):\n",
        "  origin = filename.split('/')[-1].split('.txt')[0]\n",
        "  names = open(filename).readlines()\n",
        "  for name in names:\n",
        "    data.append((name.strip(), origin))\n",
        "\n",
        "names, origins = zip(*data)\n",
        "\n",
        "names = list(names)\n",
        "origins = list(origins)\n",
        "#names_train, names_test, origins_train, origins_test = train_test_split(names, origins, test_size=0.25, shuffle=True, random_state=123)"
      ],
      "execution_count": null,
      "outputs": []
    },
    {
      "cell_type": "code",
      "metadata": {
        "id": "bEhX4ofoIBmQ",
        "colab_type": "code",
        "colab": {
          "base_uri": "https://localhost:8080/",
          "height": 204
        },
        "outputId": "ed227656-ead8-45b2-87db-d8c4add53a94"
      },
      "source": [
        "df = pd.DataFrame(\n",
        "    {'Names': names,\n",
        "     'Origins': origins}\n",
        ")\n",
        "df.head()"
      ],
      "execution_count": null,
      "outputs": [
        {
          "output_type": "execute_result",
          "data": {
            "text/html": [
              "<div>\n",
              "<style scoped>\n",
              "    .dataframe tbody tr th:only-of-type {\n",
              "        vertical-align: middle;\n",
              "    }\n",
              "\n",
              "    .dataframe tbody tr th {\n",
              "        vertical-align: top;\n",
              "    }\n",
              "\n",
              "    .dataframe thead th {\n",
              "        text-align: right;\n",
              "    }\n",
              "</style>\n",
              "<table border=\"1\" class=\"dataframe\">\n",
              "  <thead>\n",
              "    <tr style=\"text-align: right;\">\n",
              "      <th></th>\n",
              "      <th>Names</th>\n",
              "      <th>Origins</th>\n",
              "    </tr>\n",
              "  </thead>\n",
              "  <tbody>\n",
              "    <tr>\n",
              "      <th>0</th>\n",
              "      <td>Aalsburg</td>\n",
              "      <td>Dutch</td>\n",
              "    </tr>\n",
              "    <tr>\n",
              "      <th>1</th>\n",
              "      <td>Aalst</td>\n",
              "      <td>Dutch</td>\n",
              "    </tr>\n",
              "    <tr>\n",
              "      <th>2</th>\n",
              "      <td>Aarle</td>\n",
              "      <td>Dutch</td>\n",
              "    </tr>\n",
              "    <tr>\n",
              "      <th>3</th>\n",
              "      <td>Achteren</td>\n",
              "      <td>Dutch</td>\n",
              "    </tr>\n",
              "    <tr>\n",
              "      <th>4</th>\n",
              "      <td>Achthoven</td>\n",
              "      <td>Dutch</td>\n",
              "    </tr>\n",
              "  </tbody>\n",
              "</table>\n",
              "</div>"
            ],
            "text/plain": [
              "       Names Origins\n",
              "0   Aalsburg   Dutch\n",
              "1      Aalst   Dutch\n",
              "2      Aarle   Dutch\n",
              "3   Achteren   Dutch\n",
              "4  Achthoven   Dutch"
            ]
          },
          "metadata": {
            "tags": []
          },
          "execution_count": 4
        }
      ]
    },
    {
      "cell_type": "markdown",
      "metadata": {
        "id": "9UAXFDAcKwqD",
        "colab_type": "text"
      },
      "source": [
        "* The longest name isn't larger than 20\n",
        "* There are 18 different Nationalities and the most common is Russian\n"
      ]
    },
    {
      "cell_type": "code",
      "metadata": {
        "id": "3JQqhPL5J6pQ",
        "colab_type": "code",
        "colab": {
          "base_uri": "https://localhost:8080/",
          "height": 499
        },
        "outputId": "46a56ade-8ca1-439b-f200-6b553e533163"
      },
      "source": [
        "plt.figure(figsize=(12,8))\n",
        "plt.hist([len(a) for a in names], bins=36)\n",
        "plt.title(\"Length of the names\")\n",
        "plt.show();"
      ],
      "execution_count": null,
      "outputs": [
        {
          "output_type": "display_data",
          "data": {
            "image/png": "[encoded data removed]",
            "text/plain": [
              "<Figure size 864x576 with 1 Axes>"
            ]
          },
          "metadata": {
            "tags": [],
            "needs_background": "light"
          }
        }
      ]
    },
    {
      "cell_type": "code",
      "metadata": {
        "id": "zBZr6ok6LEOT",
        "colab_type": "code",
        "colab": {
          "base_uri": "https://localhost:8080/",
          "height": 345
        },
        "outputId": "23900fea-3a24-4154-bf01-0f3c982d42ae"
      },
      "source": [
        "df.groupby(['Origins']).count().plot(kind='bar')"
      ],
      "execution_count": null,
      "outputs": [
        {
          "output_type": "execute_result",
          "data": {
            "text/plain": [
              "<matplotlib.axes._subplots.AxesSubplot at 0x7fb5a1914160>"
            ]
          },
          "metadata": {
            "tags": []
          },
          "execution_count": 6
        },
        {
          "output_type": "display_data",
          "data": {
            "image/png": "[encoded data removed]",
            "text/plain": [
              "<Figure size 432x288 with 1 Axes>"
            ]
          },
          "metadata": {
            "tags": [],
            "needs_background": "light"
          }
        }
      ]
    },
    {
      "cell_type": "markdown",
      "metadata": {
        "id": "aO3XMMfGFhIR",
        "colab_type": "text"
      },
      "source": [
        "# Look at the data"
      ]
    },
    {
      "cell_type": "code",
      "metadata": {
        "id": "qD6C0vHdatvA",
        "colab_type": "code",
        "colab": {}
      },
      "source": [
        "def tokenize(x):\n",
        "  \"\"\"\n",
        "  Tokenize x\n",
        "  x: list of sentences/strings to be tokenized\n",
        "  returns : tuple of (Tokenized X data, tokenizer used to tokenize x)\n",
        "  \"\"\"\n",
        "  x_tk = Tokenizer(char_level=True, lower=True)\n",
        "  x_tk.fit_on_texts(x)\n",
        "  vocab_size = x_tk.word_index\n",
        "  print('Found %s unique tokens.' % len(vocab_size))\n",
        "  return x_tk.texts_to_sequences(x), x_tk\n",
        "  "
      ],
      "execution_count": null,
      "outputs": []
    },
    {
      "cell_type": "code",
      "metadata": {
        "id": "9RJl4m5RlfhC",
        "colab_type": "code",
        "colab": {
          "base_uri": "https://localhost:8080/",
          "height": 34
        },
        "outputId": "04902bc8-1137-4b3b-affd-b38921c5ccc1"
      },
      "source": [
        "text_tokenized, text_tokenizer = tokenize(names)"
      ],
      "execution_count": null,
      "outputs": [
        {
          "output_type": "stream",
          "text": [
            "Found 58 unique tokens.\n"
          ],
          "name": "stdout"
        }
      ]
    },
    {
      "cell_type": "code",
      "metadata": {
        "id": "KA18F4YKcSE6",
        "colab_type": "code",
        "colab": {
          "base_uri": "https://localhost:8080/",
          "height": 527
        },
        "outputId": "fee27278-da8f-46f1-b5b3-438b1743c5c3"
      },
      "source": [
        "for sample_i, (sent, token_sent) in enumerate(zip(names[:10], text_tokenized)):\n",
        "    print('Sequence {} in x'.format(sample_i + 1))\n",
        "    print('  Input:  {}'.format(sent))\n",
        "    print('  Output: {}'.format(token_sent))\n"
      ],
      "execution_count": null,
      "outputs": [
        {
          "output_type": "stream",
          "text": [
            "Sequence 1 in x\n",
            "  Input:  Aalsburg\n",
            "  Output: [1, 1, 10, 7, 16, 13, 6, 18]\n",
            "Sequence 2 in x\n",
            "  Input:  Aalst\n",
            "  Output: [1, 1, 10, 7, 12]\n",
            "Sequence 3 in x\n",
            "  Input:  Aarle\n",
            "  Output: [1, 1, 6, 10, 3]\n",
            "Sequence 4 in x\n",
            "  Input:  Achteren\n",
            "  Output: [1, 19, 8, 12, 3, 6, 3, 5]\n",
            "Sequence 5 in x\n",
            "  Input:  Achthoven\n",
            "  Output: [1, 19, 8, 12, 8, 2, 11, 3, 5]\n",
            "Sequence 6 in x\n",
            "  Input:  Adrichem\n",
            "  Output: [1, 15, 6, 4, 19, 8, 3, 14]\n",
            "Sequence 7 in x\n",
            "  Input:  Aggelen\n",
            "  Output: [1, 18, 18, 3, 10, 3, 5]\n",
            "Sequence 8 in x\n",
            "  Input:  Agteren\n",
            "  Output: [1, 18, 12, 3, 6, 3, 5]\n",
            "Sequence 9 in x\n",
            "  Input:  Agthoven\n",
            "  Output: [1, 18, 12, 8, 2, 11, 3, 5]\n",
            "Sequence 10 in x\n",
            "  Input:  Akkeren\n",
            "  Output: [1, 9, 9, 3, 6, 3, 5]\n"
          ],
          "name": "stdout"
        }
      ]
    },
    {
      "cell_type": "code",
      "metadata": {
        "id": "RqCbTgX6coTR",
        "colab_type": "code",
        "colab": {}
      },
      "source": [
        "def pad(x, length=18):\n",
        "    \"\"\"\n",
        "    Pad x\n",
        "    :param x: List of sequences.\n",
        "    :param length: Length to pad the sequence to.  If None, use length of longest sequence in x.\n",
        "    :return: Padded numpy array of sequences\n",
        "    \"\"\"\n",
        "    # TODO: Implement\n",
        "    # Find the length of the longest string in the dataset. \n",
        "\n",
        "    padded = pad_sequences(x, maxlen=length, padding='post')\n",
        "    return padded\n",
        "    "
      ],
      "execution_count": null,
      "outputs": []
    },
    {
      "cell_type": "code",
      "metadata": {
        "id": "z5IQFF0xeEKj",
        "colab_type": "code",
        "colab": {
          "base_uri": "https://localhost:8080/",
          "height": 527
        },
        "outputId": "78961bbb-2c8f-4bd1-d544-142040062e26"
      },
      "source": [
        "test_pad = pad(text_tokenized)\n",
        "for sample_i, (token_sent, pad_sent) in enumerate(zip(text_tokenized[:10], test_pad)):\n",
        "    print('Sequence {} in x'.format(sample_i + 1))\n",
        "    print('  Input:  {}'.format(np.array(token_sent)))\n",
        "    print('  Output: {}'.format(pad_sent))\n"
      ],
      "execution_count": null,
      "outputs": [
        {
          "output_type": "stream",
          "text": [
            "Sequence 1 in x\n",
            "  Input:  [ 1  1 10  7 16 13  6 18]\n",
            "  Output: [ 1  1 10  7 16 13  6 18  0  0  0  0  0  0  0  0  0  0]\n",
            "Sequence 2 in x\n",
            "  Input:  [ 1  1 10  7 12]\n",
            "  Output: [ 1  1 10  7 12  0  0  0  0  0  0  0  0  0  0  0  0  0]\n",
            "Sequence 3 in x\n",
            "  Input:  [ 1  1  6 10  3]\n",
            "  Output: [ 1  1  6 10  3  0  0  0  0  0  0  0  0  0  0  0  0  0]\n",
            "Sequence 4 in x\n",
            "  Input:  [ 1 19  8 12  3  6  3  5]\n",
            "  Output: [ 1 19  8 12  3  6  3  5  0  0  0  0  0  0  0  0  0  0]\n",
            "Sequence 5 in x\n",
            "  Input:  [ 1 19  8 12  8  2 11  3  5]\n",
            "  Output: [ 1 19  8 12  8  2 11  3  5  0  0  0  0  0  0  0  0  0]\n",
            "Sequence 6 in x\n",
            "  Input:  [ 1 15  6  4 19  8  3 14]\n",
            "  Output: [ 1 15  6  4 19  8  3 14  0  0  0  0  0  0  0  0  0  0]\n",
            "Sequence 7 in x\n",
            "  Input:  [ 1 18 18  3 10  3  5]\n",
            "  Output: [ 1 18 18  3 10  3  5  0  0  0  0  0  0  0  0  0  0  0]\n",
            "Sequence 8 in x\n",
            "  Input:  [ 1 18 12  3  6  3  5]\n",
            "  Output: [ 1 18 12  3  6  3  5  0  0  0  0  0  0  0  0  0  0  0]\n",
            "Sequence 9 in x\n",
            "  Input:  [ 1 18 12  8  2 11  3  5]\n",
            "  Output: [ 1 18 12  8  2 11  3  5  0  0  0  0  0  0  0  0  0  0]\n",
            "Sequence 10 in x\n",
            "  Input:  [1 9 9 3 6 3 5]\n",
            "  Output: [1 9 9 3 6 3 5 0 0 0 0 0 0 0 0 0 0 0]\n"
          ],
          "name": "stdout"
        }
      ]
    },
    {
      "cell_type": "code",
      "metadata": {
        "id": "2g1dQqg7rczC",
        "colab_type": "code",
        "colab": {
          "base_uri": "https://localhost:8080/",
          "height": 51
        },
        "outputId": "a02a1735-f8e9-4bcd-bd8f-9d05b57c6c9d"
      },
      "source": [
        "def preprocess(x):\n",
        "    \"\"\"\n",
        "    Preprocess x and y\n",
        "    :param x: Feature List of Names\n",
        "\n",
        "    :return: Tuple of padded and tokenized names\n",
        "    \"\"\"\n",
        "    preprocess_x, x_tk = tokenize(x)\n",
        "\n",
        "\n",
        "    preprocess_x = pad(preprocess_x)\n",
        "\n",
        "\n",
        "    return preprocess_x, x_tk\n",
        "\n",
        "X_preproc, x_tokenizer = preprocess(names)\n",
        "X_preproc.shape"
      ],
      "execution_count": null,
      "outputs": [
        {
          "output_type": "stream",
          "text": [
            "Found 58 unique tokens.\n"
          ],
          "name": "stdout"
        },
        {
          "output_type": "execute_result",
          "data": {
            "text/plain": [
              "(20074, 18)"
            ]
          },
          "metadata": {
            "tags": []
          },
          "execution_count": 13
        }
      ]
    },
    {
      "cell_type": "markdown",
      "metadata": {
        "id": "XbhpS0ZKLlS0",
        "colab_type": "text"
      },
      "source": [
        "# Splitting the data\n",
        "* Converting string values to integers"
      ]
    },
    {
      "cell_type": "code",
      "metadata": {
        "id": "5iVZlHZXLoHV",
        "colab_type": "code",
        "colab": {
          "base_uri": "https://localhost:8080/",
          "height": 34
        },
        "outputId": "c754856f-3fdb-48d1-ecb0-9203ff97bbe0"
      },
      "source": [
        "Y = pd.get_dummies(df['Origins']).values\n",
        "print('Shape of label tensor:', Y.shape)"
      ],
      "execution_count": null,
      "outputs": [
        {
          "output_type": "stream",
          "text": [
            "Shape of label tensor: (20074, 18)\n"
          ],
          "name": "stdout"
        }
      ]
    },
    {
      "cell_type": "code",
      "metadata": {
        "id": "17_aAe-OOC3H",
        "colab_type": "code",
        "colab": {
          "base_uri": "https://localhost:8080/",
          "height": 68
        },
        "outputId": "23dc4ed7-c9b6-435e-d94d-48c286d1a268"
      },
      "source": [
        "X_train, X_test, Y_train, Y_test = train_test_split(X_preproc,Y, test_size = 0.10)\n",
        "print(X_train.shape,Y_train.shape)\n",
        "print(X_test.shape,Y_test.shape)"
      ],
      "execution_count": null,
      "outputs": [
        {
          "output_type": "stream",
          "text": [
            "(18066, 18) (18066, 18)\n",
            "(2008, 18) (2008, 18)\n"
          ],
          "name": "stdout"
        },
        {
          "output_type": "execute_result",
          "data": {
            "text/plain": [
              "numpy.ndarray"
            ]
          },
          "metadata": {
            "tags": []
          },
          "execution_count": 16
        }
      ]
    },
    {
      "cell_type": "markdown",
      "metadata": {
        "id": "DJBUgqp7Od0O",
        "colab_type": "text"
      },
      "source": [
        "## Fairly Straightforward Model\n",
        "* The 'vocabulary' in this case corresponds to the number of unique letters as established by `tokenizer.word_index`. In this case, is 58+1\n",
        "* Output dimension represents the number of dimensions we wish to embed into. This is a fairly arbitrary number, as each word will be represented by a vector of this much dimensions. In our case, words are individual letters. \n",
        "* Input length is the length of the longest word, here it was decided to be 18 after padding. "
      ]
    },
    {
      "cell_type": "code",
      "metadata": {
        "id": "ozyGcEnH7Vop",
        "colab_type": "code",
        "colab": {}
      },
      "source": [
        "vocab = 59\n",
        "max_dim = 32"
      ],
      "execution_count": null,
      "outputs": []
    },
    {
      "cell_type": "code",
      "metadata": {
        "id": "518811_YRabT",
        "colab_type": "code",
        "colab": {
          "base_uri": "https://localhost:8080/",
          "height": 34
        },
        "outputId": "d43a6f48-de48-4627-84c3-6fd0680f5e1d"
      },
      "source": [
        "K.clear_session()\n",
        "model = Sequential()\n",
        "model.add(Embedding(input_dim=vocab, output_dim=max_dim, input_length=X_preproc.shape[1]))\n",
        "model.add(SpatialDropout1D(0.2))\n",
        "model.add(LSTM(100, dropout=0.2, recurrent_dropout=0.2))\n",
        "model.add(Dense(18,activation='softmax'))"
      ],
      "execution_count": null,
      "outputs": [
        {
          "output_type": "stream",
          "text": [
            "WARNING:tensorflow:Layer lstm will not use cuDNN kernel since it doesn't meet the cuDNN kernel criteria. It will use generic GPU kernel as fallback when running on GPU\n"
          ],
          "name": "stdout"
        }
      ]
    },
    {
      "cell_type": "code",
      "metadata": {
        "id": "0IYO_ta4bPCD",
        "colab_type": "code",
        "colab": {
          "base_uri": "https://localhost:8080/",
          "height": 289
        },
        "outputId": "a1b67646-2fa6-43c5-cc5b-1ad9009c21da"
      },
      "source": [
        "model.summary()"
      ],
      "execution_count": null,
      "outputs": [
        {
          "output_type": "stream",
          "text": [
            "Model: \"sequential\"\n",
            "_________________________________________________________________\n",
            "Layer (type)                 Output Shape              Param #   \n",
            "=================================================================\n",
            "embedding (Embedding)        (None, 18, 100)           5900      \n",
            "_________________________________________________________________\n",
            "spatial_dropout1d (SpatialDr (None, 18, 100)           0         \n",
            "_________________________________________________________________\n",
            "lstm (LSTM)                  (None, 100)               80400     \n",
            "_________________________________________________________________\n",
            "dense (Dense)                (None, 18)                1818      \n",
            "=================================================================\n",
            "Total params: 88,118\n",
            "Trainable params: 88,118\n",
            "Non-trainable params: 0\n",
            "_________________________________________________________________\n"
          ],
          "name": "stdout"
        }
      ]
    },
    {
      "cell_type": "code",
      "metadata": {
        "id": "R76RjD6BSayB",
        "colab_type": "code",
        "colab": {}
      },
      "source": [
        "model.compile(loss='categorical_crossentropy', optimizer='adam', metrics= ['accuracy'])"
      ],
      "execution_count": null,
      "outputs": []
    },
    {
      "cell_type": "code",
      "metadata": {
        "id": "VkGlrtW_aNFz",
        "colab_type": "code",
        "colab": {
          "base_uri": "https://localhost:8080/",
          "height": 1000
        },
        "outputId": "6d77faa0-eafd-45da-df44-c50ebefe73b2"
      },
      "source": [
        "h = model.fit(X_train, Y_train, batch_size=20, epochs=40, validation_split=0.2, verbose=0)"
      ],
      "execution_count": null,
      "outputs": [
        {
          "output_type": "stream",
          "text": [
            "Epoch 1/40\n",
            "723/723 [==============================] - 60s 83ms/step - loss: 1.6485 - accuracy: 0.5279 - val_loss: 1.3407 - val_accuracy: 0.6115\n",
            "Epoch 2/40\n",
            "723/723 [==============================] - 60s 83ms/step - loss: 1.2879 - accuracy: 0.6214 - val_loss: 1.1722 - val_accuracy: 0.6635\n",
            "Epoch 3/40\n",
            "723/723 [==============================] - 60s 83ms/step - loss: 1.1560 - accuracy: 0.6502 - val_loss: 1.0517 - val_accuracy: 0.6937\n",
            "Epoch 4/40\n",
            "723/723 [==============================] - 62s 85ms/step - loss: 1.0351 - accuracy: 0.6891 - val_loss: 0.9306 - val_accuracy: 0.7247\n",
            "Epoch 5/40\n",
            "723/723 [==============================] - 60s 83ms/step - loss: 0.9303 - accuracy: 0.7187 - val_loss: 0.8419 - val_accuracy: 0.7465\n",
            "Epoch 6/40\n",
            "723/723 [==============================] - 60s 84ms/step - loss: 0.8536 - accuracy: 0.7404 - val_loss: 0.7926 - val_accuracy: 0.7662\n",
            "Epoch 7/40\n",
            "723/723 [==============================] - 60s 83ms/step - loss: 0.7936 - accuracy: 0.7572 - val_loss: 0.7763 - val_accuracy: 0.7681\n",
            "Epoch 8/40\n",
            "723/723 [==============================] - 59s 82ms/step - loss: 0.7402 - accuracy: 0.7701 - val_loss: 0.7203 - val_accuracy: 0.7828\n",
            "Epoch 9/40\n",
            "723/723 [==============================] - 60s 84ms/step - loss: 0.7077 - accuracy: 0.7790 - val_loss: 0.6899 - val_accuracy: 0.7963\n",
            "Epoch 10/40\n",
            "723/723 [==============================] - 59s 82ms/step - loss: 0.6743 - accuracy: 0.7892 - val_loss: 0.6790 - val_accuracy: 0.8019\n",
            "Epoch 11/40\n",
            "723/723 [==============================] - 60s 83ms/step - loss: 0.6435 - accuracy: 0.7971 - val_loss: 0.6643 - val_accuracy: 0.8016\n",
            "Epoch 12/40\n",
            "723/723 [==============================] - 60s 83ms/step - loss: 0.6218 - accuracy: 0.8051 - val_loss: 0.6375 - val_accuracy: 0.8082\n",
            "Epoch 13/40\n",
            "723/723 [==============================] - 59s 81ms/step - loss: 0.5906 - accuracy: 0.8144 - val_loss: 0.6383 - val_accuracy: 0.8044\n",
            "Epoch 14/40\n",
            "723/723 [==============================] - 60s 84ms/step - loss: 0.5769 - accuracy: 0.8166 - val_loss: 0.6276 - val_accuracy: 0.8132\n",
            "Epoch 15/40\n",
            "723/723 [==============================] - 60s 83ms/step - loss: 0.5619 - accuracy: 0.8201 - val_loss: 0.6161 - val_accuracy: 0.8177\n",
            "Epoch 16/40\n",
            "723/723 [==============================] - 60s 83ms/step - loss: 0.5388 - accuracy: 0.8268 - val_loss: 0.6241 - val_accuracy: 0.8138\n",
            "Epoch 17/40\n",
            "723/723 [==============================] - 60s 82ms/step - loss: 0.5295 - accuracy: 0.8276 - val_loss: 0.6221 - val_accuracy: 0.8185\n",
            "Epoch 18/40\n",
            "723/723 [==============================] - 59s 82ms/step - loss: 0.5153 - accuracy: 0.8343 - val_loss: 0.6182 - val_accuracy: 0.8124\n",
            "Epoch 19/40\n",
            "723/723 [==============================] - 61s 84ms/step - loss: 0.5013 - accuracy: 0.8342 - val_loss: 0.6222 - val_accuracy: 0.8182\n",
            "Epoch 20/40\n",
            "723/723 [==============================] - 60s 82ms/step - loss: 0.4925 - accuracy: 0.8421 - val_loss: 0.6009 - val_accuracy: 0.8215\n",
            "Epoch 21/40\n",
            "723/723 [==============================] - 60s 83ms/step - loss: 0.4709 - accuracy: 0.8444 - val_loss: 0.6169 - val_accuracy: 0.8210\n",
            "Epoch 22/40\n",
            "723/723 [==============================] - 61s 84ms/step - loss: 0.4609 - accuracy: 0.8487 - val_loss: 0.6068 - val_accuracy: 0.8196\n",
            "Epoch 23/40\n",
            "723/723 [==============================] - 61s 84ms/step - loss: 0.4478 - accuracy: 0.8537 - val_loss: 0.6111 - val_accuracy: 0.8165\n",
            "Epoch 24/40\n",
            "723/723 [==============================] - 60s 83ms/step - loss: 0.4416 - accuracy: 0.8530 - val_loss: 0.6210 - val_accuracy: 0.8229\n",
            "Epoch 25/40\n",
            "723/723 [==============================] - 61s 85ms/step - loss: 0.4367 - accuracy: 0.8576 - val_loss: 0.6064 - val_accuracy: 0.8204\n",
            "Epoch 26/40\n",
            "723/723 [==============================] - 60s 82ms/step - loss: 0.4227 - accuracy: 0.8598 - val_loss: 0.6058 - val_accuracy: 0.8224\n",
            "Epoch 27/40\n",
            "723/723 [==============================] - 60s 82ms/step - loss: 0.4185 - accuracy: 0.8601 - val_loss: 0.6208 - val_accuracy: 0.8182\n",
            "Epoch 28/40\n",
            "723/723 [==============================] - 58s 81ms/step - loss: 0.4062 - accuracy: 0.8677 - val_loss: 0.6222 - val_accuracy: 0.8276\n",
            "Epoch 29/40\n",
            "723/723 [==============================] - 59s 82ms/step - loss: 0.3964 - accuracy: 0.8711 - val_loss: 0.6310 - val_accuracy: 0.8240\n",
            "Epoch 30/40\n",
            "723/723 [==============================] - 58s 81ms/step - loss: 0.3916 - accuracy: 0.8674 - val_loss: 0.6241 - val_accuracy: 0.8210\n",
            "Epoch 31/40\n",
            "723/723 [==============================] - 58s 81ms/step - loss: 0.3830 - accuracy: 0.8720 - val_loss: 0.6379 - val_accuracy: 0.8262\n",
            "Epoch 32/40\n",
            "723/723 [==============================] - 57s 79ms/step - loss: 0.3767 - accuracy: 0.8743 - val_loss: 0.6392 - val_accuracy: 0.8210\n",
            "Epoch 33/40\n",
            "723/723 [==============================] - 57s 80ms/step - loss: 0.3680 - accuracy: 0.8766 - val_loss: 0.6338 - val_accuracy: 0.8251\n",
            "Epoch 34/40\n",
            "723/723 [==============================] - 58s 81ms/step - loss: 0.3664 - accuracy: 0.8765 - val_loss: 0.6354 - val_accuracy: 0.8226\n",
            "Epoch 35/40\n",
            "723/723 [==============================] - 58s 81ms/step - loss: 0.3586 - accuracy: 0.8806 - val_loss: 0.6460 - val_accuracy: 0.8251\n",
            "Epoch 36/40\n",
            "723/723 [==============================] - 59s 81ms/step - loss: 0.3491 - accuracy: 0.8797 - val_loss: 0.6384 - val_accuracy: 0.8226\n",
            "Epoch 37/40\n",
            "723/723 [==============================] - 58s 80ms/step - loss: 0.3434 - accuracy: 0.8869 - val_loss: 0.6324 - val_accuracy: 0.8235\n",
            "Epoch 38/40\n",
            "723/723 [==============================] - 57s 80ms/step - loss: 0.3403 - accuracy: 0.8851 - val_loss: 0.6572 - val_accuracy: 0.8210\n",
            "Epoch 39/40\n",
            "723/723 [==============================] - 58s 80ms/step - loss: 0.3380 - accuracy: 0.8845 - val_loss: 0.6617 - val_accuracy: 0.8185\n",
            "Epoch 40/40\n",
            "723/723 [==============================] - 58s 80ms/step - loss: 0.3377 - accuracy: 0.8852 - val_loss: 0.6366 - val_accuracy: 0.8215\n"
          ],
          "name": "stdout"
        }
      ]
    },
    {
      "cell_type": "code",
      "metadata": {
        "id": "852uj6QEQfLj",
        "colab_type": "code",
        "colab": {
          "base_uri": "https://localhost:8080/",
          "height": 85
        },
        "outputId": "6e2c4b3d-793a-4705-b6b4-e81fd955c01c"
      },
      "source": [
        "accr = model.evaluate(X_test,Y_test)\n",
        "print('Test set\\n  Loss: {:0.3f}\\n  Accuracy: {:0.3f}'.format(accr[0],accr[1]))"
      ],
      "execution_count": null,
      "outputs": [
        {
          "output_type": "stream",
          "text": [
            "63/63 [==============================] - 1s 9ms/step - loss: 0.6160 - accuracy: 0.8252\n",
            "Test set\n",
            "  Loss: 0.616\n",
            "  Accuracy: 0.825\n"
          ],
          "name": "stdout"
        }
      ]
    },
    {
      "cell_type": "code",
      "metadata": {
        "id": "7Ged_gFDc0wM",
        "colab_type": "code",
        "colab": {}
      },
      "source": [
        "def predictor(name,model):\n",
        "\n",
        "  labels = ['Arabic','Chinese','Czech','Dutch','English','French','German','Greek','Irish','Italian','Japanese', 'Korean','Polish','Portuguese','Russian','Scottish','Spanish','Vietnamese']\n",
        "  tokenizer = Tokenizer(char_level=True, lower=True)\n",
        "  tokenizer.fit_on_texts(df['Names'].values)\n",
        "  seq = tokenizer.texts_to_sequences([name])\n",
        "  padded = pad_sequences(seq, maxlen=18, padding='post')\n",
        "  pred = model.predict(padded)\n",
        "  pred_results=pd.DataFrame(pred)\n",
        "  pred_results.columns=labels\n",
        "  nat = labels[np.argmax(pred)]\n",
        "  print(f'Name nationality is likely to be {nat}')\n",
        "  display(pred_results)\n",
        "\n"
      ],
      "execution_count": null,
      "outputs": []
    },
    {
      "cell_type": "code",
      "metadata": {
        "id": "v5i7Bd2PbQaj",
        "colab_type": "code",
        "colab": {
          "base_uri": "https://localhost:8080/",
          "height": 97
        },
        "outputId": "1ef942a7-5743-41ff-f444-c99868a41dad"
      },
      "source": [
        "predictor(\"Carmen\",model)"
      ],
      "execution_count": null,
      "outputs": [
        {
          "output_type": "stream",
          "text": [
            "Name nationality is likely to be English\n"
          ],
          "name": "stdout"
        },
        {
          "output_type": "display_data",
          "data": {
            "text/html": [
              "<div>\n",
              "<style scoped>\n",
              "    .dataframe tbody tr th:only-of-type {\n",
              "        vertical-align: middle;\n",
              "    }\n",
              "\n",
              "    .dataframe tbody tr th {\n",
              "        vertical-align: top;\n",
              "    }\n",
              "\n",
              "    .dataframe thead th {\n",
              "        text-align: right;\n",
              "    }\n",
              "</style>\n",
              "<table border=\"1\" class=\"dataframe\">\n",
              "  <thead>\n",
              "    <tr style=\"text-align: right;\">\n",
              "      <th></th>\n",
              "      <th>Arabic</th>\n",
              "      <th>Chinese</th>\n",
              "      <th>Czech</th>\n",
              "      <th>Dutch</th>\n",
              "      <th>English</th>\n",
              "      <th>French</th>\n",
              "      <th>German</th>\n",
              "      <th>Greek</th>\n",
              "      <th>Irish</th>\n",
              "      <th>Italian</th>\n",
              "      <th>Japanese</th>\n",
              "      <th>Korean</th>\n",
              "      <th>Polish</th>\n",
              "      <th>Portuguese</th>\n",
              "      <th>Russian</th>\n",
              "      <th>Scottish</th>\n",
              "      <th>Spanish</th>\n",
              "      <th>Vietnamese</th>\n",
              "    </tr>\n",
              "  </thead>\n",
              "  <tbody>\n",
              "    <tr>\n",
              "      <th>0</th>\n",
              "      <td>8.177579e-08</td>\n",
              "      <td>0.000013</td>\n",
              "      <td>0.003548</td>\n",
              "      <td>0.197719</td>\n",
              "      <td>0.741821</td>\n",
              "      <td>0.000832</td>\n",
              "      <td>0.001562</td>\n",
              "      <td>0.000004</td>\n",
              "      <td>0.049952</td>\n",
              "      <td>0.000237</td>\n",
              "      <td>0.000132</td>\n",
              "      <td>0.00002</td>\n",
              "      <td>0.000465</td>\n",
              "      <td>9.462227e-07</td>\n",
              "      <td>0.000262</td>\n",
              "      <td>0.003364</td>\n",
              "      <td>0.000045</td>\n",
              "      <td>0.000023</td>\n",
              "    </tr>\n",
              "  </tbody>\n",
              "</table>\n",
              "</div>"
            ],
            "text/plain": [
              "         Arabic   Chinese     Czech  ...  Scottish   Spanish  Vietnamese\n",
              "0  8.177579e-08  0.000013  0.003548  ...  0.003364  0.000045    0.000023\n",
              "\n",
              "[1 rows x 18 columns]"
            ]
          },
          "metadata": {
            "tags": []
          }
        }
      ]
    },
    {
      "cell_type": "markdown",
      "metadata": {
        "id": "-3Oo5GAG-pr0",
        "colab_type": "text"
      },
      "source": [
        "## Using GRU"
      ]
    },
    {
      "cell_type": "code",
      "metadata": {
        "id": "lYA53_0q-vDP",
        "colab_type": "code",
        "colab": {
          "base_uri": "https://localhost:8080/",
          "height": 272
        },
        "outputId": "13b11fa5-8c26-4234-8c4a-dddba5934127"
      },
      "source": [
        "K.clear_session()\n",
        "m2 = Sequential()\n",
        "m2.add(Embedding(vocab, max_dim, input_length=X_preproc.shape[1]))\n",
        "m2.add(GRU(units=32, dropout=0.2, recurrent_dropout=0.2))\n",
        "m2.add(Dense(18, activation='softmax'))\n",
        "\n",
        "m2.summary()"
      ],
      "execution_count": null,
      "outputs": [
        {
          "output_type": "stream",
          "text": [
            "WARNING:tensorflow:Layer gru will not use cuDNN kernel since it doesn't meet the cuDNN kernel criteria. It will use generic GPU kernel as fallback when running on GPU\n",
            "Model: \"sequential\"\n",
            "_________________________________________________________________\n",
            "Layer (type)                 Output Shape              Param #   \n",
            "=================================================================\n",
            "embedding (Embedding)        (None, 18, 32)            1888      \n",
            "_________________________________________________________________\n",
            "gru (GRU)                    (None, 32)                6336      \n",
            "_________________________________________________________________\n",
            "dense (Dense)                (None, 18)                594       \n",
            "=================================================================\n",
            "Total params: 8,818\n",
            "Trainable params: 8,818\n",
            "Non-trainable params: 0\n",
            "_________________________________________________________________\n"
          ],
          "name": "stdout"
        }
      ]
    },
    {
      "cell_type": "code",
      "metadata": {
        "id": "VD8ooW1l_Fly",
        "colab_type": "code",
        "colab": {}
      },
      "source": [
        "m2.compile(loss='categorical_crossentropy', optimizer='adam', metrics= ['accuracy'])"
      ],
      "execution_count": null,
      "outputs": []
    },
    {
      "cell_type": "code",
      "metadata": {
        "id": "6QI9lGqK_MMH",
        "colab_type": "code",
        "colab": {}
      },
      "source": [
        "h = m2.fit(X_train, Y_train, batch_size=20, epochs=40, validation_split=0.2, verbose=0)"
      ],
      "execution_count": null,
      "outputs": []
    },
    {
      "cell_type": "code",
      "metadata": {
        "id": "OJXnCqNm_vZu",
        "colab_type": "code",
        "colab": {
          "base_uri": "https://localhost:8080/",
          "height": 85
        },
        "outputId": "2a55cc00-61c6-4bf8-f455-92278ad228b7"
      },
      "source": [
        "accr = m2.evaluate(X_test,Y_test)\n",
        "print('Test set\\n  Loss: {:0.3f}\\n  Accuracy: {:0.3f}'.format(accr[0],accr[1]))"
      ],
      "execution_count": null,
      "outputs": [
        {
          "output_type": "stream",
          "text": [
            "63/63 [==============================] - 0s 6ms/step - loss: 0.6593 - accuracy: 0.8018\n",
            "Test set\n",
            "  Loss: 0.659\n",
            "  Accuracy: 0.802\n"
          ],
          "name": "stdout"
        }
      ]
    },
    {
      "cell_type": "code",
      "metadata": {
        "id": "Lxc9rIdY_5xh",
        "colab_type": "code",
        "colab": {
          "base_uri": "https://localhost:8080/",
          "height": 97
        },
        "outputId": "799f2f2e-db59-4319-c3de-e2f459fd8cce"
      },
      "source": [
        "predictor(\"Carmen\",m2)"
      ],
      "execution_count": null,
      "outputs": [
        {
          "output_type": "stream",
          "text": [
            "Name nationality is likely to be English\n"
          ],
          "name": "stdout"
        },
        {
          "output_type": "display_data",
          "data": {
            "text/html": [
              "<div>\n",
              "<style scoped>\n",
              "    .dataframe tbody tr th:only-of-type {\n",
              "        vertical-align: middle;\n",
              "    }\n",
              "\n",
              "    .dataframe tbody tr th {\n",
              "        vertical-align: top;\n",
              "    }\n",
              "\n",
              "    .dataframe thead th {\n",
              "        text-align: right;\n",
              "    }\n",
              "</style>\n",
              "<table border=\"1\" class=\"dataframe\">\n",
              "  <thead>\n",
              "    <tr style=\"text-align: right;\">\n",
              "      <th></th>\n",
              "      <th>Arabic</th>\n",
              "      <th>Chinese</th>\n",
              "      <th>Czech</th>\n",
              "      <th>Dutch</th>\n",
              "      <th>English</th>\n",
              "      <th>French</th>\n",
              "      <th>German</th>\n",
              "      <th>Greek</th>\n",
              "      <th>Irish</th>\n",
              "      <th>Italian</th>\n",
              "      <th>Japanese</th>\n",
              "      <th>Korean</th>\n",
              "      <th>Polish</th>\n",
              "      <th>Portuguese</th>\n",
              "      <th>Russian</th>\n",
              "      <th>Scottish</th>\n",
              "      <th>Spanish</th>\n",
              "      <th>Vietnamese</th>\n",
              "    </tr>\n",
              "  </thead>\n",
              "  <tbody>\n",
              "    <tr>\n",
              "      <th>0</th>\n",
              "      <td>0.000139</td>\n",
              "      <td>0.000061</td>\n",
              "      <td>0.019844</td>\n",
              "      <td>0.091574</td>\n",
              "      <td>0.617745</td>\n",
              "      <td>0.041028</td>\n",
              "      <td>0.087542</td>\n",
              "      <td>0.000167</td>\n",
              "      <td>0.089922</td>\n",
              "      <td>0.00855</td>\n",
              "      <td>0.000031</td>\n",
              "      <td>0.000023</td>\n",
              "      <td>0.002314</td>\n",
              "      <td>0.000777</td>\n",
              "      <td>0.014978</td>\n",
              "      <td>0.021578</td>\n",
              "      <td>0.003518</td>\n",
              "      <td>0.000209</td>\n",
              "    </tr>\n",
              "  </tbody>\n",
              "</table>\n",
              "</div>"
            ],
            "text/plain": [
              "     Arabic   Chinese     Czech  ...  Scottish   Spanish  Vietnamese\n",
              "0  0.000139  0.000061  0.019844  ...  0.021578  0.003518    0.000209\n",
              "\n",
              "[1 rows x 18 columns]"
            ]
          },
          "metadata": {
            "tags": []
          }
        }
      ]
    }
  ]
}